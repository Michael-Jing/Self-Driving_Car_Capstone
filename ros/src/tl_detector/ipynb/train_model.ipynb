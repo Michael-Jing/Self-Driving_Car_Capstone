{
 "cells": [
  {
   "cell_type": "code",
   "execution_count": 4,
   "metadata": {},
   "outputs": [],
   "source": [
    "import matplotlib.pyplot as plt\n",
    "%matplotlib inline\n",
    "import tensorflow as tf\n",
    "import glob\n",
    "from scipy.misc import imread \n",
    "from scipy.misc import imresize\n",
    "from keras.models import Sequential\n",
    "from keras.layers import Dense, Dropout, Activation, Flatten, Convolution2D, MaxPooling2D, Conv2D, MaxPool2D, Lambda\n",
    "from keras.layers import BatchNormalization, LeakyReLU\n",
    "from keras.utils import np_utils\n",
    "import numpy as np\n",
    "from keras.preprocessing.image import ImageDataGenerator"
   ]
  },
  {
   "cell_type": "code",
   "execution_count": 47,
   "metadata": {
    "collapsed": true
   },
   "outputs": [],
   "source": [
    "# load data\n",
    "file_names_dict = dict()\n",
    "for i in [0, 1, 2]:\n",
    "    image_files = glob.glob(f\"/tmp/tl_training/{i}/*[!a-z].jpg\")\n",
    "    image_files = image_files[0:min(550, len(image_files))]\n",
    "    file_names_dict[i] = image_files\n",
    "\n",
    "   "
   ]
  },
  {
   "cell_type": "code",
   "execution_count": 48,
   "metadata": {},
   "outputs": [
    {
     "name": "stdout",
     "output_type": "stream",
     "text": [
      "550\n",
      "550\n",
      "550\n",
      "550\n"
     ]
    }
   ],
   "source": [
    "data_dict = dict()\n",
    "for key in file_names_dict:\n",
    "    print(len(file_names_dict.get(key)))\n",
    "    fnames = file_names_dict.get(key)\n",
    "    images = [imresize(imread(x),(300, 400)) for x in fnames]\n",
    "    data_dict[key] = images\n",
    "    \n",
    "    "
   ]
  },
  {
   "cell_type": "code",
   "execution_count": 49,
   "metadata": {},
   "outputs": [],
   "source": [
    "X = []\n",
    "Y = []\n",
    "for key in data_dict:\n",
    "    x = np.array(data_dict.get(key))\n",
    "    y = np.ones(shape=x.shape[0]) * key\n",
    "    X.append(x)\n",
    "    Y.append(y)"
   ]
  },
  {
   "cell_type": "code",
   "execution_count": 50,
   "metadata": {},
   "outputs": [],
   "source": [
    "X_train = np.vstack((X[0], X[1], X[2], X[3]))\n",
    "Y_train = np.hstack((Y[0], Y[1], Y[2], Y[3]))"
   ]
  },
  {
   "cell_type": "code",
   "execution_count": 51,
   "metadata": {
    "collapsed": true
   },
   "outputs": [],
   "source": [
    "Y_train = np.hstack((Y[0], Y[1], Y[2], Y[3]))"
   ]
  },
  {
   "cell_type": "code",
   "execution_count": 52,
   "metadata": {},
   "outputs": [
    {
     "name": "stdout",
     "output_type": "stream",
     "text": [
      "(2200, 300, 400, 3)\n",
      "(2200,)\n"
     ]
    }
   ],
   "source": [
    "print(X_train.shape)\n",
    "print(Y_train.shape)"
   ]
  },
  {
   "cell_type": "code",
   "execution_count": 53,
   "metadata": {},
   "outputs": [],
   "source": [
    "del X\n",
    "#del Y\n",
    "del data_dict\n",
    "del file_names_dict"
   ]
  },
  {
   "cell_type": "code",
   "execution_count": 54,
   "metadata": {},
   "outputs": [
    {
     "ename": "NameError",
     "evalue": "name 'red' is not defined",
     "output_type": "error",
     "traceback": [
      "\u001b[0;31m---------------------------------------------------------------------------\u001b[0m",
      "\u001b[0;31mNameError\u001b[0m                                 Traceback (most recent call last)",
      "\u001b[0;32m<ipython-input-54-8a348e3142ff>\u001b[0m in \u001b[0;36m<module>\u001b[0;34m()\u001b[0m\n\u001b[0;32m----> 1\u001b[0;31m \u001b[0mtest_img\u001b[0m \u001b[0;34m=\u001b[0m \u001b[0mimread\u001b[0m\u001b[0;34m(\u001b[0m\u001b[0mred\u001b[0m\u001b[0;34m[\u001b[0m\u001b[0;36m6\u001b[0m\u001b[0;34m]\u001b[0m\u001b[0;34m)\u001b[0m\u001b[0;34m\u001b[0m\u001b[0m\n\u001b[0m\u001b[1;32m      2\u001b[0m \u001b[0;31m#img = imresize(arr=test_img, size=(600,600))\u001b[0m\u001b[0;34m\u001b[0m\u001b[0;34m\u001b[0m\u001b[0m\n\u001b[1;32m      3\u001b[0m \u001b[0;31m#plt.imshow(test_img)\u001b[0m\u001b[0;34m\u001b[0m\u001b[0;34m\u001b[0m\u001b[0m\n",
      "\u001b[0;31mNameError\u001b[0m: name 'red' is not defined"
     ]
    }
   ],
   "source": []
  },
  {
   "cell_type": "code",
   "execution_count": 2,
   "metadata": {},
   "outputs": [
    {
     "name": "stdout",
     "output_type": "stream",
     "text": [
      "(None, 3)\n"
     ]
    }
   ],
   "source": [
    "model = Sequential\n",
    "\n",
    "model = Sequential([\n",
    "    Lambda(lambda x: x / 255 - 0.5, input_shape=(300, 400, 3)),\n",
    "    Conv2D(8, kernel_size=(5, 5), strides=(2,2)),\n",
    "    LeakyReLU(alpha=0.1),\n",
    "    BatchNormalization(),\n",
    "    MaxPool2D(pool_size=(2,2), strides=(2,2)),\n",
    "    Conv2D(16, kernel_size=(3, 3), strides=(1,1)),\n",
    "    LeakyReLU(alpha=0.1),\n",
    "    BatchNormalization(),\n",
    "    MaxPool2D(pool_size=(2,2), strides=(2,2)),\n",
    "\n",
    "    Conv2D(32, kernel_size=(3, 3), strides=(2, 2)),\n",
    "    LeakyReLU(alpha=0.1),\n",
    "    BatchNormalization(),\n",
    "    Flatten(),\n",
    "    Dense(55),\n",
    "    Dense(4, activation='softmax')\n",
    "])\n",
    "\n",
    "model = Sequential([\n",
    "    Lambda(lambda x: x / 255 - 0.5, input_shape=(300, 400, 3)),\n",
    "    Conv2D(3, kernel_size=(5, 5), strides=(2,2)),\n",
    "    LeakyReLU(alpha=0.1),\n",
    "    BatchNormalization(),\n",
    "    MaxPool2D(pool_size=(2,2), strides=(2,2)),\n",
    "    Conv2D(9, kernel_size=(3, 3), strides=(2,2)),\n",
    "    LeakyReLU(alpha=0.1),\n",
    "    BatchNormalization(),\n",
    "    MaxPool2D(pool_size=(2,2), strides=(2,2)),\n",
    "    Dropout(0.25),\n",
    "\n",
    "    Conv2D(18, kernel_size=(3, 3), strides=(1, 1)),\n",
    "    LeakyReLU(alpha=0.1),\n",
    "    BatchNormalization(),\n",
    "    Flatten(),\n",
    "    Dense(45),\n",
    "    Dense(3, activation='softmax')\n",
    "])\n",
    "\n",
    "\n",
    "model.compile(loss='categorical_crossentropy',\n",
    "             optimizer='adam',\n",
    "             metrics=['accuracy'])\n",
    "print(model.output_shape)"
   ]
  },
  {
   "cell_type": "code",
   "execution_count": 5,
   "metadata": {},
   "outputs": [],
   "source": [
    "# training\n",
    "datagen = ImageDataGenerator(\n",
    "    rotation_range = 30,\n",
    "    width_shift_range = 0.2,\n",
    "    height_shift_range = 0.2,\n",
    "    shear_range = 0.1,\n",
    "    zoom_range = 0.4,\n",
    "    horizontal_flip=True,\n",
    "    vertical_flip=True\n",
    ")\n",
    "test_datagen = ImageDataGenerator()"
   ]
  },
  {
   "cell_type": "code",
   "execution_count": 6,
   "metadata": {},
   "outputs": [
    {
     "name": "stdout",
     "output_type": "stream",
     "text": [
      "Found 360 images belonging to 3 classes.\n",
      "Found 3264 images belonging to 3 classes.\n"
     ]
    }
   ],
   "source": [
    "data_generator = datagen.flow_from_directory('/home/michael/tl_training',\n",
    "          target_size=(300,400),\n",
    "          batch_size=32,\n",
    "          class_mode=\"categorical\")\n",
    "\n",
    "val_generator = test_datagen.flow_from_directory('/home/michael/tl_val',\n",
    "        target_size=(300,400),\n",
    "        batch_size=32,\n",
    "        class_mode=\"categorical\")"
   ]
  },
  {
   "cell_type": "code",
   "execution_count": null,
   "metadata": {},
   "outputs": [
    {
     "name": "stdout",
     "output_type": "stream",
     "text": [
      "Epoch 1/10\n",
      "210/210 [==============================] - 177s - loss: 2.3665 - acc: 0.3695 - val_loss: 1.1524 - val_acc: 0.3334\n",
      "Epoch 2/10\n",
      "210/210 [==============================] - 174s - loss: 0.9596 - acc: 0.5537 - val_loss: 4.9118 - val_acc: 0.3343\n",
      "Epoch 3/10\n",
      "210/210 [==============================] - 173s - loss: 0.3446 - acc: 0.8662 - val_loss: 2.2566 - val_acc: 0.5578\n",
      "Epoch 4/10\n",
      "210/210 [==============================] - 173s - loss: 0.1728 - acc: 0.9414 - val_loss: 1.4255 - val_acc: 0.7455\n",
      "Epoch 5/10\n",
      "210/210 [==============================] - 173s - loss: 0.0984 - acc: 0.9649 - val_loss: 0.6595 - val_acc: 0.7995\n",
      "Epoch 6/10\n",
      "210/210 [==============================] - 173s - loss: 0.1196 - acc: 0.9630 - val_loss: 0.8235 - val_acc: 0.8182\n",
      "Epoch 7/10\n",
      "210/210 [==============================] - 173s - loss: 0.0596 - acc: 0.9807 - val_loss: 0.4631 - val_acc: 0.8693\n",
      "Epoch 8/10\n",
      "210/210 [==============================] - 172s - loss: 0.0458 - acc: 0.9853 - val_loss: 0.4336 - val_acc: 0.9065\n",
      "Epoch 9/10\n",
      "210/210 [==============================] - 172s - loss: 0.1019 - acc: 0.9802 - val_loss: 0.6623 - val_acc: 0.8332\n",
      "Epoch 10/10\n",
      "210/210 [==============================] - 172s - loss: 0.0889 - acc: 0.9753 - val_loss: 0.4305 - val_acc: 0.8917\n",
      "Epoch 1/10\n",
      "210/210 [==============================] - 186s - loss: 0.0583 - acc: 0.9817 - val_loss: 0.4785 - val_acc: 0.8451\n",
      "Epoch 2/10\n",
      "210/210 [==============================] - 205s - loss: 0.0378 - acc: 0.9896 - val_loss: 0.3032 - val_acc: 0.9130\n",
      "Epoch 3/10\n",
      "210/210 [==============================] - 198s - loss: 0.0507 - acc: 0.9875 - val_loss: 0.3675 - val_acc: 0.9239\n",
      "Epoch 4/10\n",
      "210/210 [==============================] - 178s - loss: 0.0605 - acc: 0.9825 - val_loss: 0.3106 - val_acc: 0.8894\n",
      "Epoch 5/10\n",
      "210/210 [==============================] - 175s - loss: 0.0368 - acc: 0.9893 - val_loss: 0.2538 - val_acc: 0.9368\n",
      "Epoch 6/10\n",
      "210/210 [==============================] - 196s - loss: 0.0240 - acc: 0.9917 - val_loss: 0.3625 - val_acc: 0.9093\n",
      "Epoch 7/10\n",
      "209/210 [============================>.] - ETA: 0s - loss: 0.0406 - acc: 0.9889"
     ]
    }
   ],
   "source": [
    "for i in range(100):\n",
    "    model.fit_generator(data_generator, steps_per_epoch=210, epochs=10,\n",
    "    validation_data=val_generator, validation_steps=300)\n",
    "\n",
    "    model.save('../light_classification/models/whole_image_model_gpu{}.h5'.format(i))"
   ]
  },
  {
   "cell_type": "code",
   "execution_count": 69,
   "metadata": {
    "collapsed": true
   },
   "outputs": [],
   "source": []
  },
  {
   "cell_type": "code",
   "execution_count": 70,
   "metadata": {
    "collapsed": true
   },
   "outputs": [],
   "source": []
  },
  {
   "cell_type": "code",
   "execution_count": 71,
   "metadata": {
    "collapsed": true
   },
   "outputs": [],
   "source": []
  },
  {
   "cell_type": "code",
   "execution_count": 79,
   "metadata": {},
   "outputs": [
    {
     "name": "stdout",
     "output_type": "stream",
     "text": [
      "output node names are:  ['output_node0', 'output_node1', 'output_node2', 'output_node3']\n"
     ]
    }
   ],
   "source": [
    " "
   ]
  },
  {
   "cell_type": "code",
   "execution_count": 86,
   "metadata": {},
   "outputs": [
    {
     "data": {
      "text/plain": [
       "TensorShape([Dimension(None), Dimension(None)])"
      ]
     },
     "execution_count": 86,
     "metadata": {},
     "output_type": "execute_result"
    }
   ],
   "source": []
  },
  {
   "cell_type": "code",
   "execution_count": 84,
   "metadata": {},
   "outputs": [
    {
     "name": "stdout",
     "output_type": "stream",
     "text": [
      "INFO:tensorflow:Froze 18 variables.\n",
      "Converted 18 variables to const ops.\n"
     ]
    },
    {
     "data": {
      "text/plain": [
       "'./tl_dector.pb'"
      ]
     },
     "execution_count": 84,
     "metadata": {},
     "output_type": "execute_result"
    }
   ],
   "source": []
  },
  {
   "cell_type": "code",
   "execution_count": null,
   "metadata": {
    "collapsed": true
   },
   "outputs": [],
   "source": []
  }
 ],
 "metadata": {
  "kernelspec": {
   "display_name": "Python 2",
   "language": "python",
   "name": "python2"
  },
  "language_info": {
   "codemirror_mode": {
    "name": "ipython",
    "version": 2
   },
   "file_extension": ".py",
   "mimetype": "text/x-python",
   "name": "python",
   "nbconvert_exporter": "python",
   "pygments_lexer": "ipython2",
   "version": "2.7.12"
  }
 },
 "nbformat": 4,
 "nbformat_minor": 2
}
